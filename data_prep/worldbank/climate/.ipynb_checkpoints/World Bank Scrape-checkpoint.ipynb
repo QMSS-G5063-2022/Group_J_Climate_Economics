{
 "cells": [
  {
   "cell_type": "code",
   "execution_count": 3,
   "id": "cbe4aeba",
   "metadata": {},
   "outputs": [],
   "source": [
    "from bs4 import BeautifulSoup as bs\n",
    "from selenium import webdriver\n",
    "import time\n",
    "import requests\n",
    "import pandas as pd\n",
    "from selenium.common.exceptions import NoSuchElementException\n",
    "from selenium.webdriver.support.ui import Select\n",
    "import os"
   ]
  },
  {
   "cell_type": "code",
   "execution_count": 14,
   "id": "3de37b0d",
   "metadata": {},
   "outputs": [
    {
     "name": "stderr",
     "output_type": "stream",
     "text": [
      "/var/folders/2g/x52yhs_s6h96x64ydv7ck14m0000gn/T/ipykernel_43140/4163549645.py:2: DeprecationWarning: executable_path has been deprecated, please pass in a Service object\n",
      "  drive = webdriver.Chrome(cloud_path)\n"
     ]
    }
   ],
   "source": [
    "cloud_path = '/Users/gamzebilsen/Downloads/chromedriver 2'\n",
    "drive = webdriver.Chrome(cloud_path)\n",
    "URL = \"https://climateknowledgeportal.worldbank.org/download-data\"\n",
    "drive.get(URL)"
   ]
  },
  {
   "cell_type": "code",
   "execution_count": 15,
   "id": "f72937bd",
   "metadata": {},
   "outputs": [
    {
     "name": "stderr",
     "output_type": "stream",
     "text": [
      "/var/folders/2g/x52yhs_s6h96x64ydv7ck14m0000gn/T/ipykernel_43140/3966886213.py:8: DeprecationWarning: find_element_by_xpath is deprecated. Please use find_element(by=By.XPATH, value=xpath) instead\n",
      "  a = drive.find_element_by_xpath('/html/body/div[1]/div[1]/div/section/div[2]/section/div/div/div/div/div/div/div[3]/form/div[2]/div/select')\n",
      "/var/folders/2g/x52yhs_s6h96x64ydv7ck14m0000gn/T/ipykernel_43140/3966886213.py:9: DeprecationWarning: find_element_by_xpath is deprecated. Please use find_element(by=By.XPATH, value=xpath) instead\n",
      "  a = Select(drive.find_element_by_xpath(\"/html/body/div[1]/div[1]/div/section/div[2]/section/div/div/div/div/div/div/div[3]/form/div[2]/div/select\"))\n",
      "/var/folders/2g/x52yhs_s6h96x64ydv7ck14m0000gn/T/ipykernel_43140/3966886213.py:12: DeprecationWarning: find_element_by_xpath is deprecated. Please use find_element(by=By.XPATH, value=xpath) instead\n",
      "  d = Select(drive.find_element_by_xpath(\"/html/body/div[1]/div[1]/div/section/div[2]/section/div/div/div/div/div/div/div[3]/form/div[3]/div/select\"))\n",
      "/var/folders/2g/x52yhs_s6h96x64ydv7ck14m0000gn/T/ipykernel_43140/3966886213.py:14: DeprecationWarning: find_element_by_xpath is deprecated. Please use find_element(by=By.XPATH, value=xpath) instead\n",
      "  e = Select(drive.find_element_by_xpath(\"/html/body/div[1]/div[1]/div/section/div[2]/section/div/div/div/div/div/div/div[3]/form/div[4]/div/select\"))\n",
      "/var/folders/2g/x52yhs_s6h96x64ydv7ck14m0000gn/T/ipykernel_43140/3966886213.py:16: DeprecationWarning: find_element_by_xpath is deprecated. Please use find_element(by=By.XPATH, value=xpath) instead\n",
      "  b = Select(drive.find_element_by_xpath(\"/html/body/div[1]/div[1]/div/section/div[2]/section/div/div/div/div/div/div/div[3]/form/div[5]/div/select\"))\n",
      "/var/folders/2g/x52yhs_s6h96x64ydv7ck14m0000gn/T/ipykernel_43140/3966886213.py:19: DeprecationWarning: find_element_by_xpath is deprecated. Please use find_element(by=By.XPATH, value=xpath) instead\n",
      "  e = Select(drive.find_element_by_xpath(\"/html/body/div[1]/div[1]/div/section/div[2]/section/div/div/div/div/div/div/div[3]/form/div[10]/div/select\"))\n",
      "/var/folders/2g/x52yhs_s6h96x64ydv7ck14m0000gn/T/ipykernel_43140/3966886213.py:21: DeprecationWarning: find_element_by_xpath is deprecated. Please use find_element(by=By.XPATH, value=xpath) instead\n",
      "  c = drive.find_element_by_xpath(\"/html/body/div[1]/div[1]/div/section/div[2]/section/div/div/div/div/div/div/div[3]/form/div[14]/div[2]/button\")\n"
     ]
    }
   ],
   "source": [
    "passed = []\n",
    "country_list = pd.read_csv(os.getcwd()+'/country_codes.csv')['Code'].to_list()\n",
    "clim_list = ['tas','tasmin','tasmax','pr']\n",
    "for country in country_list:\n",
    "    try:\n",
    "        for temp_type in clim_list:\n",
    "            time.sleep(0.5)\n",
    "            a = drive.find_element_by_xpath('/html/body/div[1]/div[1]/div/section/div[2]/section/div/div/div/div/div/div/div[3]/form/div[2]/div/select')\n",
    "            a = Select(drive.find_element_by_xpath(\"/html/body/div[1]/div[1]/div/section/div[2]/section/div/div/div/div/div/div/div[3]/form/div[2]/div/select\"))\n",
    "            a.select_by_value(temp_type)\n",
    "            time.sleep(0.5)\n",
    "            d = Select(drive.find_element_by_xpath(\"/html/body/div[1]/div[1]/div/section/div[2]/section/div/div/div/div/div/div/div[3]/form/div[3]/div/select\"))\n",
    "            d.select_by_value('annual')\n",
    "            e = Select(drive.find_element_by_xpath(\"/html/body/div[1]/div[1]/div/section/div[2]/section/div/div/div/div/div/div/div[3]/form/div[4]/div/select\"))\n",
    "            e.select_by_value('country')\n",
    "            b = Select(drive.find_element_by_xpath(\"/html/body/div[1]/div[1]/div/section/div[2]/section/div/div/div/div/div/div/div[3]/form/div[5]/div/select\"))\n",
    "            b.select_by_value(country)\n",
    "            time.sleep(0.5)\n",
    "            e = Select(drive.find_element_by_xpath(\"/html/body/div[1]/div[1]/div/section/div[2]/section/div/div/div/div/div/div/div[3]/form/div[10]/div/select\"))\n",
    "            e.select_by_value('historical')\n",
    "            c = drive.find_element_by_xpath(\"/html/body/div[1]/div[1]/div/section/div[2]/section/div/div/div/div/div/div/div[3]/form/div[14]/div[2]/button\")\n",
    "            c.click()\n",
    "            time.sleep(0.5)\n",
    "    except:\n",
    "        passed.append(country)\n",
    "\n",
    "\n",
    "\n",
    "\n",
    "\n"
   ]
  },
  {
   "cell_type": "markdown",
   "id": "b9ab9da5",
   "metadata": {},
   "source": [
    "### Country's together"
   ]
  },
  {
   "cell_type": "code",
   "execution_count": 154,
   "id": "75cdde4a",
   "metadata": {},
   "outputs": [],
   "source": [
    "# Getting rid of the countries that weren't pulled\n",
    "matched_code = pd.DataFrame(list(set(country_list) - set(passed)))\n",
    "# country_list.merge(matched_code, left_on='lkey', right_on='rkey')\n",
    "pulled_country = pd.read_csv(os.getcwd()+'/country_codes.csv').merge(matched_code, left_on='Code', right_on=0,how='inner')\n",
    "# pulled_country = pulled_country[['Country_name','Code']]\n",
    "pulled_country.index=pulled_country['Code']\n",
    "pulled_country = pulled_country[['Country_name']]\n",
    "country_dict = pulled_country.T.to_dict(orient='records')\n",
    "# country_dict\n"
   ]
  },
  {
   "cell_type": "code",
   "execution_count": 164,
   "id": "658a4ada",
   "metadata": {},
   "outputs": [],
   "source": [
    "prdf = pd.DataFrame()\n",
    "tmax = pd.DataFrame()\n",
    "tmin = pd.DataFrame()\n",
    "tmean = pd.DataFrame()\n",
    "from pathlib import Path\n",
    "for file in os.listdir():\n",
    "    for k,v in country_dict[0].items():\n",
    "        try:\n",
    "            if file.endswith(f'{k}.csv') and file.startswith('pr'):\n",
    "                x = pd.read_csv(file,skiprows=1).iloc[:,1]\n",
    "                prdf = pd.concat([prdf,x],axis=1)\n",
    "        except:\n",
    "            prdf = pd.concat([prdf,pd.DataFrame(['empty']).rename({0:v},axis=1)])\n",
    "        try:\n",
    "            if file.endswith(f'{k}.csv') and file.startswith('tas'):\n",
    "                x = pd.read_csv(file,skiprows=1).iloc[:,1]\n",
    "                tmean = pd.concat([tmean,x],axis=1)\n",
    "        except:\n",
    "            tmean = pd.concat([tmean,pd.DataFrame(['empty']).rename({0:v},axis=1)])\n",
    "        try:\n",
    "            if file.endswith(f'{k}.csv') and file.startswith('tasmax'):\n",
    "                x = pd.read_csv(file,skiprows=1).iloc[:,1]\n",
    "                tmax = pd.concat([tmax,x],axis=1)\n",
    "        except:\n",
    "            tmax = pd.concat([tmax,pd.DataFrame(['empty']).rename({0:v},axis=1)])\n",
    "        try:\n",
    "            if file.endswith(f'{k}.csv') and file.startswith('tasmin'):\n",
    "                x = pd.read_csv(file,skiprows=1).iloc[:,1]\n",
    "                tmin = pd.concat([tmin,x],axis=1)\n",
    "        except:\n",
    "            tmin = pd.concat([tmin,pd.DataFrame(['empty']).rename({0:v},axis=1)])\n",
    "        \n",
    "\n"
   ]
  },
  {
   "cell_type": "code",
   "execution_count": 167,
   "id": "164c177c",
   "metadata": {},
   "outputs": [
    {
     "name": "stderr",
     "output_type": "stream",
     "text": [
      "/var/folders/2g/x52yhs_s6h96x64ydv7ck14m0000gn/T/ipykernel_43140/1608645339.py:2: PerformanceWarning: DataFrame is highly fragmented.  This is usually the result of calling `frame.insert` many times, which has poor performance.  Consider joining all columns at once using pd.concat(axis=1) instead.  To get a de-fragmented frame, use `newframe = frame.copy()`\n",
      "  tmean['Date'] = pd.read_csv('pr_timeseries_annual_cru_1901-2020_ISR.csv',skiprows=1).iloc[:,0]\n",
      "/var/folders/2g/x52yhs_s6h96x64ydv7ck14m0000gn/T/ipykernel_43140/1608645339.py:3: PerformanceWarning: DataFrame is highly fragmented.  This is usually the result of calling `frame.insert` many times, which has poor performance.  Consider joining all columns at once using pd.concat(axis=1) instead.  To get a de-fragmented frame, use `newframe = frame.copy()`\n",
      "  tmin['Date'] = pd.read_csv('pr_timeseries_annual_cru_1901-2020_ISR.csv',skiprows=1).iloc[:,0]\n",
      "/var/folders/2g/x52yhs_s6h96x64ydv7ck14m0000gn/T/ipykernel_43140/1608645339.py:4: PerformanceWarning: DataFrame is highly fragmented.  This is usually the result of calling `frame.insert` many times, which has poor performance.  Consider joining all columns at once using pd.concat(axis=1) instead.  To get a de-fragmented frame, use `newframe = frame.copy()`\n",
      "  tmax['Date'] = pd.read_csv('pr_timeseries_annual_cru_1901-2020_ISR.csv',skiprows=1).iloc[:,0]\n"
     ]
    }
   ],
   "source": [
    "prdf['Date'] = pd.read_csv('pr_timeseries_annual_cru_1901-2020_ISR.csv',skiprows=1).iloc[:,0]\n",
    "tmean['Date'] = pd.read_csv('pr_timeseries_annual_cru_1901-2020_ISR.csv',skiprows=1).iloc[:,0]\n",
    "tmin['Date'] = pd.read_csv('pr_timeseries_annual_cru_1901-2020_ISR.csv',skiprows=1).iloc[:,0]\n",
    "tmax['Date'] = pd.read_csv('pr_timeseries_annual_cru_1901-2020_ISR.csv',skiprows=1).iloc[:,0]"
   ]
  },
  {
   "cell_type": "code",
   "execution_count": 175,
   "id": "fc6d5caf",
   "metadata": {},
   "outputs": [],
   "source": [
    "prdf.to_csv('prdf.csv')\n",
    "tmean.to_csv('tmean.csv')\n",
    "tmin.to_csv('tmin.csv')\n",
    "tmax.to_csv('tmax.csv')"
   ]
  },
  {
   "cell_type": "code",
   "execution_count": null,
   "id": "60d89028",
   "metadata": {},
   "outputs": [],
   "source": []
  }
 ],
 "metadata": {
  "kernelspec": {
   "display_name": "Python 3 (ipykernel)",
   "language": "python",
   "name": "python3"
  },
  "language_info": {
   "codemirror_mode": {
    "name": "ipython",
    "version": 3
   },
   "file_extension": ".py",
   "mimetype": "text/x-python",
   "name": "python",
   "nbconvert_exporter": "python",
   "pygments_lexer": "ipython3",
   "version": "3.9.7"
  }
 },
 "nbformat": 4,
 "nbformat_minor": 5
}
