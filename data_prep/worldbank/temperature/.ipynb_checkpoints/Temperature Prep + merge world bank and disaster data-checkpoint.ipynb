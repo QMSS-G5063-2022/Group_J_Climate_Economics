{
 "cells": [
  {
   "cell_type": "code",
   "execution_count": 1,
   "id": "aab0b1b7",
   "metadata": {},
   "outputs": [],
   "source": [
    "import pandas as pd\n",
    "import os"
   ]
  },
  {
   "cell_type": "code",
   "execution_count": 6,
   "id": "b8853897",
   "metadata": {},
   "outputs": [
    {
     "data": {
      "text/plain": [
       "['tmax.csv',\n",
       " 'climate_dev2.csv',\n",
       " '.DS_Store',\n",
       " 'climate_dev1.csv',\n",
       " 'prdf.csv',\n",
       " 'Reconstruct Data.ipynb',\n",
       " 'Untitled.ipynb',\n",
       " 'tempdata',\n",
       " 'climate_changemeta2.csv',\n",
       " 'finaltemplatertomerge',\n",
       " 'tmin.csv',\n",
       " 'climate_changemeta.csv',\n",
       " 'worldbankfinal.csv',\n",
       " 'tmean.csv',\n",
       " 'final',\n",
       " '.ipynb_checkpoints',\n",
       " 'original_from_wb',\n",
       " 'climate_change.csv',\n",
       " 'climate_dev_meta.csv']"
      ]
     },
     "execution_count": 6,
     "metadata": {},
     "output_type": "execute_result"
    }
   ],
   "source": [
    "os.listdir()"
   ]
  },
  {
   "cell_type": "code",
   "execution_count": 2,
   "id": "e1fcc0e2",
   "metadata": {},
   "outputs": [],
   "source": [
    "tmean = pd.read_csv(os.getcwd()+'/tmean.csv').drop(['Unnamed: 0'],axis=1)\n",
    "tmax = pd.read_csv(os.getcwd()+'/tmax.csv').drop(['Unnamed: 0'],axis=1)\n",
    "prdf = pd.read_csv(os.getcwd()+'/prdf.csv').drop(['Unnamed: 0'],axis=1)\n",
    "tmin = pd.read_csv(os.getcwd()+'/tmin.csv').drop(['Unnamed: 0'],axis=1)"
   ]
  },
  {
   "cell_type": "code",
   "execution_count": 3,
   "id": "db0b0778",
   "metadata": {},
   "outputs": [],
   "source": [
    "tmean = pd.melt(tmean, id_vars=['Date'], value_vars=tmean.columns).rename({'variable':'Country Name','value':'tmean','Date':'Year'},axis=1)\n",
    "tmax = pd.melt(tmax, id_vars=['Date'], value_vars=tmax.columns).rename({'variable':'Country Name','value':'tmax','Date':'Year'},axis=1)\n",
    "prdf = pd.melt(prdf, id_vars=['Date'], value_vars=prdf.columns).rename({'variable':'Country Name','value':'pr','Date':'Year'},axis=1)\n",
    "tmin = pd.melt(tmin, id_vars=['Date'], value_vars=tmin.columns).rename({'variable':'Country Name','value':'tmin','Date':'Year'},axis=1)"
   ]
  },
  {
   "cell_type": "code",
   "execution_count": 4,
   "id": "e0e1bf7b",
   "metadata": {},
   "outputs": [
    {
     "data": {
      "text/html": [
       "<div>\n",
       "<style scoped>\n",
       "    .dataframe tbody tr th:only-of-type {\n",
       "        vertical-align: middle;\n",
       "    }\n",
       "\n",
       "    .dataframe tbody tr th {\n",
       "        vertical-align: top;\n",
       "    }\n",
       "\n",
       "    .dataframe thead th {\n",
       "        text-align: right;\n",
       "    }\n",
       "</style>\n",
       "<table border=\"1\" class=\"dataframe\">\n",
       "  <thead>\n",
       "    <tr style=\"text-align: right;\">\n",
       "      <th></th>\n",
       "      <th>Year</th>\n",
       "      <th>Country Name</th>\n",
       "      <th>tmin</th>\n",
       "    </tr>\n",
       "  </thead>\n",
       "  <tbody>\n",
       "    <tr>\n",
       "      <th>0</th>\n",
       "      <td>1901</td>\n",
       "      <td>Marshall Islands</td>\n",
       "      <td>24.84</td>\n",
       "    </tr>\n",
       "    <tr>\n",
       "      <th>1</th>\n",
       "      <td>1902</td>\n",
       "      <td>Marshall Islands</td>\n",
       "      <td>24.84</td>\n",
       "    </tr>\n",
       "    <tr>\n",
       "      <th>2</th>\n",
       "      <td>1903</td>\n",
       "      <td>Marshall Islands</td>\n",
       "      <td>24.84</td>\n",
       "    </tr>\n",
       "    <tr>\n",
       "      <th>3</th>\n",
       "      <td>1904</td>\n",
       "      <td>Marshall Islands</td>\n",
       "      <td>24.84</td>\n",
       "    </tr>\n",
       "    <tr>\n",
       "      <th>4</th>\n",
       "      <td>1905</td>\n",
       "      <td>Marshall Islands</td>\n",
       "      <td>24.84</td>\n",
       "    </tr>\n",
       "    <tr>\n",
       "      <th>...</th>\n",
       "      <td>...</td>\n",
       "      <td>...</td>\n",
       "      <td>...</td>\n",
       "    </tr>\n",
       "    <tr>\n",
       "      <th>26635</th>\n",
       "      <td>2016</td>\n",
       "      <td>Tajikistan</td>\n",
       "      <td>-1.24</td>\n",
       "    </tr>\n",
       "    <tr>\n",
       "      <th>26636</th>\n",
       "      <td>2017</td>\n",
       "      <td>Tajikistan</td>\n",
       "      <td>-1.83</td>\n",
       "    </tr>\n",
       "    <tr>\n",
       "      <th>26637</th>\n",
       "      <td>2018</td>\n",
       "      <td>Tajikistan</td>\n",
       "      <td>-1.54</td>\n",
       "    </tr>\n",
       "    <tr>\n",
       "      <th>26638</th>\n",
       "      <td>2019</td>\n",
       "      <td>Tajikistan</td>\n",
       "      <td>-1.44</td>\n",
       "    </tr>\n",
       "    <tr>\n",
       "      <th>26639</th>\n",
       "      <td>2020</td>\n",
       "      <td>Tajikistan</td>\n",
       "      <td>-1.97</td>\n",
       "    </tr>\n",
       "  </tbody>\n",
       "</table>\n",
       "<p>26640 rows × 3 columns</p>\n",
       "</div>"
      ],
      "text/plain": [
       "       Year      Country Name   tmin\n",
       "0      1901  Marshall Islands  24.84\n",
       "1      1902  Marshall Islands  24.84\n",
       "2      1903  Marshall Islands  24.84\n",
       "3      1904  Marshall Islands  24.84\n",
       "4      1905  Marshall Islands  24.84\n",
       "...     ...               ...    ...\n",
       "26635  2016        Tajikistan  -1.24\n",
       "26636  2017        Tajikistan  -1.83\n",
       "26637  2018        Tajikistan  -1.54\n",
       "26638  2019        Tajikistan  -1.44\n",
       "26639  2020        Tajikistan  -1.97\n",
       "\n",
       "[26640 rows x 3 columns]"
      ]
     },
     "execution_count": 4,
     "metadata": {},
     "output_type": "execute_result"
    }
   ],
   "source": []
  },
  {
   "cell_type": "code",
   "execution_count": null,
   "id": "4b8629b6",
   "metadata": {},
   "outputs": [],
   "source": []
  }
 ],
 "metadata": {
  "kernelspec": {
   "display_name": "Python 3 (ipykernel)",
   "language": "python",
   "name": "python3"
  },
  "language_info": {
   "codemirror_mode": {
    "name": "ipython",
    "version": 3
   },
   "file_extension": ".py",
   "mimetype": "text/x-python",
   "name": "python",
   "nbconvert_exporter": "python",
   "pygments_lexer": "ipython3",
   "version": "3.9.7"
  }
 },
 "nbformat": 4,
 "nbformat_minor": 5
}
