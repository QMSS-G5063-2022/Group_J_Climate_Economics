{
 "cells": [
  {
   "cell_type": "code",
   "execution_count": 1,
   "id": "aab0b1b7",
   "metadata": {},
   "outputs": [],
   "source": [
    "import pandas as pd\n",
    "import os"
   ]
  },
  {
   "cell_type": "code",
   "execution_count": 6,
   "id": "b8853897",
   "metadata": {},
   "outputs": [
    {
     "data": {
      "text/plain": [
       "['tmax.csv',\n",
       " 'climate_dev2.csv',\n",
       " '.DS_Store',\n",
       " 'climate_dev1.csv',\n",
       " 'prdf.csv',\n",
       " 'Reconstruct Data.ipynb',\n",
       " 'Untitled.ipynb',\n",
       " 'tempdata',\n",
       " 'climate_changemeta2.csv',\n",
       " 'finaltemplatertomerge',\n",
       " 'tmin.csv',\n",
       " 'climate_changemeta.csv',\n",
       " 'worldbankfinal.csv',\n",
       " 'tmean.csv',\n",
       " 'final',\n",
       " '.ipynb_checkpoints',\n",
       " 'original_from_wb',\n",
       " 'climate_change.csv',\n",
       " 'climate_dev_meta.csv']"
      ]
     },
     "execution_count": 6,
     "metadata": {},
     "output_type": "execute_result"
    }
   ],
   "source": [
    "os.listdir()"
   ]
  },
  {
   "cell_type": "markdown",
   "id": "d817ff9f",
   "metadata": {},
   "source": [
    "First merging all of them together in case we need all of the historical data."
   ]
  },
  {
   "cell_type": "code",
   "execution_count": 2,
   "id": "e1fcc0e2",
   "metadata": {},
   "outputs": [],
   "source": [
    "tmean = pd.read_csv(os.getcwd()+'/tmean.csv').drop(['Unnamed: 0'],axis=1)\n",
    "tmax = pd.read_csv(os.getcwd()+'/tmax.csv').drop(['Unnamed: 0'],axis=1)\n",
    "prdf = pd.read_csv(os.getcwd()+'/prdf.csv').drop(['Unnamed: 0'],axis=1)\n",
    "tmin = pd.read_csv(os.getcwd()+'/tmin.csv').drop(['Unnamed: 0'],axis=1)"
   ]
  },
  {
   "cell_type": "code",
   "execution_count": 3,
   "id": "db0b0778",
   "metadata": {},
   "outputs": [],
   "source": [
    "tmean = pd.melt(tmean, id_vars=['Date'], value_vars=tmean.columns).rename({'variable':'Country Name','value':'tmean','Date':'Year'},axis=1)\n",
    "tmax = pd.melt(tmax, id_vars=['Date'], value_vars=tmax.columns).rename({'variable':'Country Name','value':'tmax','Date':'Year'},axis=1)\n",
    "prdf = pd.melt(prdf, id_vars=['Date'], value_vars=prdf.columns).rename({'variable':'Country Name','value':'pr','Date':'Year'},axis=1)\n",
    "tmin = pd.melt(tmin, id_vars=['Date'], value_vars=tmin.columns).rename({'variable':'Country Name','value':'tmin','Date':'Year'},axis=1)"
   ]
  },
  {
   "cell_type": "code",
   "execution_count": 6,
   "id": "e0e1bf7b",
   "metadata": {},
   "outputs": [],
   "source": [
    "tmean['CommonCol'] = tmean['Country Name'] + tmean['Year'].astype(str)\n",
    "tmax['CommonCol'] = tmax['Country Name'] + tmax['Year'].astype(str)\n",
    "prdf['CommonCol'] = prdf['Country Name'] + prdf['Year'].astype(str)\n",
    "tmin['CommonCol'] = tmin['Country Name'] + tmin['Year'].astype(str)"
   ]
  },
  {
   "cell_type": "code",
   "execution_count": 23,
   "id": "4b8629b6",
   "metadata": {},
   "outputs": [],
   "source": [
    "total = tmean.merge(tmax,how='inner',on='CommonCol').drop(['Year_y','Country Name_y'],axis=1)\n",
    "total = total.merge(tmin,how='inner',on='CommonCol').drop(['Year_x','Country Name_x'],axis=1)\n",
    "total = total.merge(prdf,how='inner',on='CommonCol').drop(['Year_y','Country Name_y'],axis=1)"
   ]
  },
  {
   "cell_type": "code",
   "execution_count": 24,
   "id": "50a07113",
   "metadata": {},
   "outputs": [
    {
     "data": {
      "text/html": [
       "<div>\n",
       "<style scoped>\n",
       "    .dataframe tbody tr th:only-of-type {\n",
       "        vertical-align: middle;\n",
       "    }\n",
       "\n",
       "    .dataframe tbody tr th {\n",
       "        vertical-align: top;\n",
       "    }\n",
       "\n",
       "    .dataframe thead th {\n",
       "        text-align: right;\n",
       "    }\n",
       "</style>\n",
       "<table border=\"1\" class=\"dataframe\">\n",
       "  <thead>\n",
       "    <tr style=\"text-align: right;\">\n",
       "      <th></th>\n",
       "      <th>tmean</th>\n",
       "      <th>CommonCol</th>\n",
       "      <th>tmax</th>\n",
       "      <th>Year_x</th>\n",
       "      <th>Country Name_x</th>\n",
       "      <th>tmin</th>\n",
       "      <th>pr</th>\n",
       "    </tr>\n",
       "  </thead>\n",
       "  <tbody>\n",
       "    <tr>\n",
       "      <th>0</th>\n",
       "      <td>15.00</td>\n",
       "      <td>Argentina1901</td>\n",
       "      <td>21.65</td>\n",
       "      <td>1901</td>\n",
       "      <td>Argentina</td>\n",
       "      <td>8.39</td>\n",
       "      <td>439.65</td>\n",
       "    </tr>\n",
       "    <tr>\n",
       "      <th>1</th>\n",
       "      <td>14.63</td>\n",
       "      <td>Argentina1902</td>\n",
       "      <td>21.29</td>\n",
       "      <td>1902</td>\n",
       "      <td>Argentina</td>\n",
       "      <td>8.01</td>\n",
       "      <td>495.48</td>\n",
       "    </tr>\n",
       "    <tr>\n",
       "      <th>2</th>\n",
       "      <td>14.30</td>\n",
       "      <td>Argentina1903</td>\n",
       "      <td>20.97</td>\n",
       "      <td>1903</td>\n",
       "      <td>Argentina</td>\n",
       "      <td>7.68</td>\n",
       "      <td>540.98</td>\n",
       "    </tr>\n",
       "    <tr>\n",
       "      <th>3</th>\n",
       "      <td>14.49</td>\n",
       "      <td>Argentina1904</td>\n",
       "      <td>21.15</td>\n",
       "      <td>1904</td>\n",
       "      <td>Argentina</td>\n",
       "      <td>7.87</td>\n",
       "      <td>557.03</td>\n",
       "    </tr>\n",
       "    <tr>\n",
       "      <th>4</th>\n",
       "      <td>14.12</td>\n",
       "      <td>Argentina1905</td>\n",
       "      <td>20.78</td>\n",
       "      <td>1905</td>\n",
       "      <td>Argentina</td>\n",
       "      <td>7.51</td>\n",
       "      <td>538.47</td>\n",
       "    </tr>\n",
       "  </tbody>\n",
       "</table>\n",
       "</div>"
      ],
      "text/plain": [
       "   tmean      CommonCol   tmax  Year_x Country Name_x  tmin      pr\n",
       "0  15.00  Argentina1901  21.65    1901      Argentina  8.39  439.65\n",
       "1  14.63  Argentina1902  21.29    1902      Argentina  8.01  495.48\n",
       "2  14.30  Argentina1903  20.97    1903      Argentina  7.68  540.98\n",
       "3  14.49  Argentina1904  21.15    1904      Argentina  7.87  557.03\n",
       "4  14.12  Argentina1905  20.78    1905      Argentina  7.51  538.47"
      ]
     },
     "execution_count": 24,
     "metadata": {},
     "output_type": "execute_result"
    }
   ],
   "source": [
    "total.head()"
   ]
  },
  {
   "cell_type": "code",
   "execution_count": 25,
   "id": "65f15624",
   "metadata": {},
   "outputs": [],
   "source": [
    "total = total[['CommonCol','Year_x','Country Name_x','tmean','tmin','tmax','pr']].rename({'Year_x':'Year','Country Name_x':'Country Name'},axis=1)\n",
    "total.to_csv('temperaturetotal.csv')"
   ]
  },
  {
   "cell_type": "markdown",
   "id": "42af26ec",
   "metadata": {},
   "source": [
    "Then merging onnly 1980+ temperature data which I will then merge with the world bank data."
   ]
  },
  {
   "cell_type": "code",
   "execution_count": 26,
   "id": "380386ff",
   "metadata": {},
   "outputs": [],
   "source": [
    "tmean = pd.read_csv(os.getcwd()+'/tmean.csv').drop(['Unnamed: 0'],axis=1)\n",
    "tmax = pd.read_csv(os.getcwd()+'/tmax.csv').drop(['Unnamed: 0'],axis=1)\n",
    "prdf = pd.read_csv(os.getcwd()+'/prdf.csv').drop(['Unnamed: 0'],axis=1)\n",
    "tmin = pd.read_csv(os.getcwd()+'/tmin.csv').drop(['Unnamed: 0'],axis=1)"
   ]
  },
  {
   "cell_type": "code",
   "execution_count": 28,
   "id": "8b241b38",
   "metadata": {},
   "outputs": [],
   "source": [
    "tmean = pd.melt(tmean, id_vars=['Date'], value_vars=tmean.columns).rename({'variable':'Country Name','value':'tmean','Date':'Year'},axis=1)\n",
    "tmax = pd.melt(tmax, id_vars=['Date'], value_vars=tmax.columns).rename({'variable':'Country Name','value':'tmax','Date':'Year'},axis=1)\n",
    "prdf = pd.melt(prdf, id_vars=['Date'], value_vars=prdf.columns).rename({'variable':'Country Name','value':'pr','Date':'Year'},axis=1)\n",
    "tmin = pd.melt(tmin, id_vars=['Date'], value_vars=tmin.columns).rename({'variable':'Country Name','value':'tmin','Date':'Year'},axis=1)"
   ]
  },
  {
   "cell_type": "code",
   "execution_count": 31,
   "id": "ba59415f",
   "metadata": {},
   "outputs": [],
   "source": [
    "tmean = tmean[tmean['Year']>=1980]\n",
    "tmax = tmax[tmax['Year']>=1980]\n",
    "prdf = prdf[prdf['Year']>=1980]\n",
    "tmin = tmin[tmin['Year']>=1980]"
   ]
  },
  {
   "cell_type": "code",
   "execution_count": 32,
   "id": "db4331a9",
   "metadata": {},
   "outputs": [
    {
     "name": "stderr",
     "output_type": "stream",
     "text": [
      "/var/folders/2g/x52yhs_s6h96x64ydv7ck14m0000gn/T/ipykernel_57899/3530587110.py:1: SettingWithCopyWarning: \n",
      "A value is trying to be set on a copy of a slice from a DataFrame.\n",
      "Try using .loc[row_indexer,col_indexer] = value instead\n",
      "\n",
      "See the caveats in the documentation: https://pandas.pydata.org/pandas-docs/stable/user_guide/indexing.html#returning-a-view-versus-a-copy\n",
      "  tmean['CommonCol'] = tmean['Country Name'] + tmean['Year'].astype(str)\n"
     ]
    }
   ],
   "source": [
    "tmean['CommonCol'] = tmean['Country Name'] + tmean['Year'].astype(str)\n",
    "tmax['CommonCol'] = tmax['Country Name'] + tmax['Year'].astype(str)\n",
    "prdf['CommonCol'] = prdf['Country Name'] + prdf['Year'].astype(str)\n",
    "tmin['CommonCol'] = tmin['Country Name'] + tmin['Year'].astype(str)\n",
    "\n",
    "total = tmean.merge(tmax,how='inner',on='CommonCol').drop(['Year_y','Country Name_y'],axis=1)\n",
    "total = total.merge(tmin,how='inner',on='CommonCol').drop(['Year_x','Country Name_x'],axis=1)\n",
    "total = total.merge(prdf,how='inner',on='CommonCol').drop(['Year_y','Country Name_y'],axis=1)"
   ]
  },
  {
   "cell_type": "code",
   "execution_count": 35,
   "id": "56e4b603",
   "metadata": {},
   "outputs": [],
   "source": [
    "total = total[['CommonCol','Year_x','Country Name_x','tmean','tmin','tmax','pr']].rename({'Year_x':'Year','Country Name_x':'Country Name'},axis=1)"
   ]
  },
  {
   "cell_type": "code",
   "execution_count": 36,
   "id": "4e790764",
   "metadata": {},
   "outputs": [],
   "source": [
    "total.to_csv('alltemperature.csv')"
   ]
  },
  {
   "cell_type": "markdown",
   "id": "6a6f5478",
   "metadata": {},
   "source": [
    "Now merging the two together"
   ]
  },
  {
   "cell_type": "code",
   "execution_count": 44,
   "id": "623223fa",
   "metadata": {},
   "outputs": [],
   "source": [
    "worldbank = pd.read_csv('/Users/gamzebilsen/Documents/GitHub/Group_J_Climate_Economics/data_prep/worldbank/worldbankfinal.csv').drop(['Unnamed: 0'],axis=1)\n",
    "temperature = pd.read_csv('/Users/gamzebilsen/Documents/GitHub/Group_J_Climate_Economics/data_prep/worldbank/temperaturefinal.csv').drop(['Unnamed: 0'],axis=1)"
   ]
  },
  {
   "cell_type": "code",
   "execution_count": 50,
   "id": "1a6b751f",
   "metadata": {},
   "outputs": [],
   "source": [
    "final = temperature.merge(worldbank,how='inner',on='CommonCol').drop(['Year_y','Country Name_y'],axis=1).rename({'Year_x':'Year','Country Name_x':'Country Name'},axis=1)"
   ]
  },
  {
   "cell_type": "code",
   "execution_count": 52,
   "id": "d896e89e",
   "metadata": {},
   "outputs": [],
   "source": [
    "final.to_csv('final.csv')"
   ]
  },
  {
   "cell_type": "markdown",
   "id": "4316e012",
   "metadata": {},
   "source": [
    "Creating the final final one that merges disasters with worldbank data"
   ]
  },
  {
   "cell_type": "code",
   "execution_count": 58,
   "id": "2b11025a",
   "metadata": {},
   "outputs": [],
   "source": [
    "worldbank_t = pd.read_csv('/Users/gamzebilsen/Documents/GitHub/Group_J_Climate_Economics/data_prep/worldbank_total.csv').drop(['Unnamed: 0'],axis=1)\n",
    "disasters_t = pd.read_csv('/Users/gamzebilsen/Documents/GitHub/Group_J_Climate_Economics/data_prep/panel_total.csv')\n"
   ]
  },
  {
   "cell_type": "code",
   "execution_count": 63,
   "id": "e312711a",
   "metadata": {},
   "outputs": [],
   "source": [
    "disasters_t['CommonCol'] = disasters_t['Country']+disasters_t['Start Year'].astype(int).astype(str)"
   ]
  },
  {
   "cell_type": "code",
   "execution_count": 66,
   "id": "0ae4442d",
   "metadata": {},
   "outputs": [],
   "source": [
    "final_total = disasters_t.merge(worldbank_t,how='right',on='CommonCol')\n",
    "final_total.to_csv('final_total.csv')"
   ]
  },
  {
   "cell_type": "code",
   "execution_count": null,
   "id": "275582b6",
   "metadata": {},
   "outputs": [],
   "source": []
  }
 ],
 "metadata": {
  "kernelspec": {
   "display_name": "Python 3 (ipykernel)",
   "language": "python",
   "name": "python3"
  },
  "language_info": {
   "codemirror_mode": {
    "name": "ipython",
    "version": 3
   },
   "file_extension": ".py",
   "mimetype": "text/x-python",
   "name": "python",
   "nbconvert_exporter": "python",
   "pygments_lexer": "ipython3",
   "version": "3.9.7"
  }
 },
 "nbformat": 4,
 "nbformat_minor": 5
}
