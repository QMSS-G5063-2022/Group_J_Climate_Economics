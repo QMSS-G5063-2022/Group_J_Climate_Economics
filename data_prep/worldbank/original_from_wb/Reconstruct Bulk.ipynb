{
 "cells": [
  {
   "cell_type": "code",
   "execution_count": 1,
   "id": "64cbe2cd",
   "metadata": {},
   "outputs": [
    {
     "data": {
      "text/plain": [
       "['pm2.5_mean_annual_exposure.csv',\n",
       " 'gini_index.csv',\n",
       " 'refugee_pop.csv',\n",
       " 'fossil_cons_perc_total.csv',\n",
       " 'dev_assistance_received.csv',\n",
       " 'perc_agfishfor_val_added.csv',\n",
       " 'ren_water_resources_percap.csv',\n",
       " 'perc_forest_land_area.csv',\n",
       " 'balance_of_accounts.csv',\n",
       " 'perc_urban_pop_in_slums.csv',\n",
       " '.DS_Store',\n",
       " 'high_tech_perc_manu_export.csv',\n",
       " 'refugee_pop_origin.csv',\n",
       " 'kwh_elect_cons.csv',\n",
       " 'co2_emission.csv',\n",
       " 'methane_emissions.csv',\n",
       " 'perc_protected_territory_land.csv',\n",
       " 'net_energy_imports_touse.csv',\n",
       " 'gni.csv',\n",
       " 'nitrousoxide_emissions.csv',\n",
       " 'expense_perc_gdp.csv',\n",
       " 'number_domestic_companies.csv',\n",
       " 'goods_serv_import_perc_gdp.csv',\n",
       " 'external_debt_stock_perc_gdp.csv',\n",
       " 'gdp_per_cap_ppp.csv',\n",
       " 'ore_metal_exports_perc_merchexport.csv',\n",
       " 'perc_real_interestrate.csv',\n",
       " 'gni_per_cap_ppp.csv',\n",
       " 'bank_nonperf_to_totalgrossloans.csv',\n",
       " 'alt_nuc_energy_perc_total_use.csv',\n",
       " 'perc_arable_land_area.csv',\n",
       " 'fdi_net_inflow.csv',\n",
       " 'labor_force.csv',\n",
       " 'cpia_management_score.csv',\n",
       " 'med_high_perc_manufacturing_val_added.csv',\n",
       " 'savings_perc_gdp.csv',\n",
       " 'perc_secondary_enrollment.csv',\n",
       " '.ipynb_checkpoints',\n",
       " 'Reconstruct Bulk.ipynb',\n",
       " 'remittances_received.csv',\n",
       " 'bank_capital_to_assets.csv',\n",
       " 'ease_of_business.csv',\n",
       " 'gni_per_cap.csv',\n",
       " '0-14_perc_pop.csv',\n",
       " 'days_for_electricity.csv',\n",
       " 'gdp_per_cap_growth.csv',\n",
       " 'income_share_top10.csv',\n",
       " 'perc_primary_enrollment.csv',\n",
       " 'gdp_per_cap.csv',\n",
       " 'gdp.csv',\n",
       " 'gov_dept_perc_gdp.csv',\n",
       " 'land_area_sqkm.csv',\n",
       " 'consumer_inflation.csv',\n",
       " 'atm_per_100k.csv',\n",
       " 'goods_serv_export_perc_gdp.csv',\n",
       " 'final2',\n",
       " 'gdp_growth.csv']"
      ]
     },
     "execution_count": 1,
     "metadata": {},
     "output_type": "execute_result"
    }
   ],
   "source": [
    "import os\n",
    "import pandas as pd\n",
    "os.listdir()"
   ]
  },
  {
   "cell_type": "code",
   "execution_count": 16,
   "id": "b1c83d67",
   "metadata": {},
   "outputs": [],
   "source": [
    "for file in os.listdir():\n",
    "    if file.endswith('.csv'):\n",
    "        file2 = pd.read_csv(os.getcwd()+f'/{file}',skiprows=3)\n",
    "        to_melt = list(file2.columns)[4:-1]\n",
    "        file2 = pd.melt(file2, id_vars=['Country Name'], value_vars=to_melt).sort_values(['Country Name','variable']).rename({'variable':'Year','value':f'{file[:-4]}'},axis=1).reset_index()[['Country Name','Year',f'{file[:-4]}']]\n",
    "        file2.to_csv(f'final2/{file[:-4]}.csv')\n",
    "\n"
   ]
  },
  {
   "cell_type": "code",
   "execution_count": null,
   "id": "fbe21de5",
   "metadata": {},
   "outputs": [],
   "source": []
  }
 ],
 "metadata": {
  "kernelspec": {
   "display_name": "Python 3 (ipykernel)",
   "language": "python",
   "name": "python3"
  },
  "language_info": {
   "codemirror_mode": {
    "name": "ipython",
    "version": 3
   },
   "file_extension": ".py",
   "mimetype": "text/x-python",
   "name": "python",
   "nbconvert_exporter": "python",
   "pygments_lexer": "ipython3",
   "version": "3.9.7"
  }
 },
 "nbformat": 4,
 "nbformat_minor": 5
}
