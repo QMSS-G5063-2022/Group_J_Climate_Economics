{
 "cells": [
  {
   "cell_type": "code",
   "execution_count": 1,
   "id": "10d3d8e8",
   "metadata": {},
   "outputs": [],
   "source": [
    "import pandas as pd\n",
    "import os\n",
    "import glob"
   ]
  },
  {
   "cell_type": "markdown",
   "id": "e37fbb54",
   "metadata": {},
   "source": [
    "Changing each csv to have the common column name to merge them all together using that"
   ]
  },
  {
   "cell_type": "code",
   "execution_count": 15,
   "id": "bee6ff1f",
   "metadata": {},
   "outputs": [],
   "source": [
    "for file in os.listdir():\n",
    "    if file.endswith('.csv'):\n",
    "        df = pd.read_csv(file)\n",
    "        df['CommonCol'] = df['Country Name'] + df['Year'].astype(str)\n",
    "        df.to_csv(file)"
   ]
  },
  {
   "cell_type": "code",
   "execution_count": 14,
   "id": "1c2b97be",
   "metadata": {},
   "outputs": [],
   "source": [
    "for file in os.listdir():\n",
    "    if file.endswith('.csv'):\n",
    "        df = pd.read_csv(file)\n",
    "        df2 = df[df['Year']>=1980]\n",
    "        df2.to_csv(f'{file[:-4]}2.csv')\n",
    "#We can see that all the files have the same shape"
   ]
  },
  {
   "cell_type": "code",
   "execution_count": 15,
   "id": "bdb53a9d",
   "metadata": {},
   "outputs": [],
   "source": [
    "joined_files = os.path.join(\"*2.csv\")\n",
    "\n",
    "joined_list = glob.glob(joined_files)\n",
    "\n",
    "\n",
    "data = pd.concat(map(pd.read_csv, joined_list), ignore_index=True)\n"
   ]
  },
  {
   "cell_type": "code",
   "execution_count": 45,
   "id": "d11f6539",
   "metadata": {},
   "outputs": [],
   "source": [
    "mergeddf = pd.read_csv(joined_list[0])\n",
    "for i in joined_list[1:]:\n",
    "    x = pd.read_csv(i)\n",
    "    x = x.drop(['Unnamed: 0','Unnamed: 0.1', 'Unnamed: 0.1.1','Year','Country Name'],axis=1)\n",
    "    mergeddf = mergeddf.merge(x,how='inner',on='CommonCol')"
   ]
  },
  {
   "cell_type": "code",
   "execution_count": 46,
   "id": "61cb36bd",
   "metadata": {},
   "outputs": [
    {
     "data": {
      "text/html": [
       "<div>\n",
       "<style scoped>\n",
       "    .dataframe tbody tr th:only-of-type {\n",
       "        vertical-align: middle;\n",
       "    }\n",
       "\n",
       "    .dataframe tbody tr th {\n",
       "        vertical-align: top;\n",
       "    }\n",
       "\n",
       "    .dataframe thead th {\n",
       "        text-align: right;\n",
       "    }\n",
       "</style>\n",
       "<table border=\"1\" class=\"dataframe\">\n",
       "  <thead>\n",
       "    <tr style=\"text-align: right;\">\n",
       "      <th></th>\n",
       "      <th>0</th>\n",
       "    </tr>\n",
       "  </thead>\n",
       "  <tbody>\n",
       "    <tr>\n",
       "      <th>Country Name</th>\n",
       "      <td>0</td>\n",
       "    </tr>\n",
       "    <tr>\n",
       "      <th>Year</th>\n",
       "      <td>0</td>\n",
       "    </tr>\n",
       "    <tr>\n",
       "      <th>GDP</th>\n",
       "      <td>1245</td>\n",
       "    </tr>\n",
       "    <tr>\n",
       "      <th>CommonCol</th>\n",
       "      <td>0</td>\n",
       "    </tr>\n",
       "    <tr>\n",
       "      <th>expense_perc_gdp</th>\n",
       "      <td>6884</td>\n",
       "    </tr>\n",
       "    <tr>\n",
       "      <th>...</th>\n",
       "      <td>...</td>\n",
       "    </tr>\n",
       "    <tr>\n",
       "      <th>labor_force</th>\n",
       "      <td>3624</td>\n",
       "    </tr>\n",
       "    <tr>\n",
       "      <th>methane_emissions</th>\n",
       "      <td>1468</td>\n",
       "    </tr>\n",
       "    <tr>\n",
       "      <th>Electricity Access</th>\n",
       "      <td>4151</td>\n",
       "    </tr>\n",
       "    <tr>\n",
       "      <th>Total Reserves</th>\n",
       "      <td>4358</td>\n",
       "    </tr>\n",
       "    <tr>\n",
       "      <th>perc_protected_territory_land</th>\n",
       "      <td>10131</td>\n",
       "    </tr>\n",
       "  </tbody>\n",
       "</table>\n",
       "<p>76 rows × 1 columns</p>\n",
       "</div>"
      ],
      "text/plain": [
       "                                   0\n",
       "Country Name                       0\n",
       "Year                               0\n",
       "GDP                             1245\n",
       "CommonCol                          0\n",
       "expense_perc_gdp                6884\n",
       "...                              ...\n",
       "labor_force                     3624\n",
       "methane_emissions               1468\n",
       "Electricity Access              4151\n",
       "Total Reserves                  4358\n",
       "perc_protected_territory_land  10131\n",
       "\n",
       "[76 rows x 1 columns]"
      ]
     },
     "execution_count": 46,
     "metadata": {},
     "output_type": "execute_result"
    }
   ],
   "source": [
    "mergeddf = mergeddf.drop(['Unnamed: 0','Unnamed: 0.1', 'Unnamed: 0.1.1'],axis=1)\n",
    "pd.DataFrame(mergeddf.isna().sum())"
   ]
  },
  {
   "cell_type": "code",
   "execution_count": 47,
   "id": "f05190c8",
   "metadata": {},
   "outputs": [],
   "source": [
    "mergeddf.to_csv('worldbankfinal.csv')"
   ]
  },
  {
   "cell_type": "code",
   "execution_count": null,
   "id": "dac08f86",
   "metadata": {},
   "outputs": [],
   "source": []
  }
 ],
 "metadata": {
  "kernelspec": {
   "display_name": "Python 3 (ipykernel)",
   "language": "python",
   "name": "python3"
  },
  "language_info": {
   "codemirror_mode": {
    "name": "ipython",
    "version": 3
   },
   "file_extension": ".py",
   "mimetype": "text/x-python",
   "name": "python",
   "nbconvert_exporter": "python",
   "pygments_lexer": "ipython3",
   "version": "3.9.7"
  }
 },
 "nbformat": 4,
 "nbformat_minor": 5
}
