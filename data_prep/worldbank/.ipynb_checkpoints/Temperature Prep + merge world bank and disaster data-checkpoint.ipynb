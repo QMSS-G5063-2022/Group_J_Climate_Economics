{
 "cells": [
  {
   "cell_type": "code",
   "execution_count": 5,
   "id": "aab0b1b7",
   "metadata": {},
   "outputs": [],
   "source": [
    "import pandas as pd\n",
    "import os"
   ]
  },
  {
   "cell_type": "code",
   "execution_count": 6,
   "id": "b8853897",
   "metadata": {},
   "outputs": [
    {
     "data": {
      "text/plain": [
       "['tmax.csv',\n",
       " 'climate_dev2.csv',\n",
       " '.DS_Store',\n",
       " 'climate_dev1.csv',\n",
       " 'prdf.csv',\n",
       " 'Reconstruct Data.ipynb',\n",
       " 'Untitled.ipynb',\n",
       " 'tempdata',\n",
       " 'climate_changemeta2.csv',\n",
       " 'finaltemplatertomerge',\n",
       " 'tmin.csv',\n",
       " 'climate_changemeta.csv',\n",
       " 'worldbankfinal.csv',\n",
       " 'tmean.csv',\n",
       " 'final',\n",
       " '.ipynb_checkpoints',\n",
       " 'original_from_wb',\n",
       " 'climate_change.csv',\n",
       " 'climate_dev_meta.csv']"
      ]
     },
     "execution_count": 6,
     "metadata": {},
     "output_type": "execute_result"
    }
   ],
   "source": [
    "os.listdir()"
   ]
  },
  {
   "cell_type": "code",
   "execution_count": 17,
   "id": "e1fcc0e2",
   "metadata": {},
   "outputs": [],
   "source": [
    "tmean = pd.read_csv(os.getcwd()+'/tmean.csv').drop(['Unnamed: 0'],axis=1)\n",
    "tmax = pd.read_csv(os.getcwd()+'/tmax.csv').drop(['Unnamed: 0'],axis=1)\n",
    "prdf = pd.read_csv(os.getcwd()+'/prdf.csv').drop(['Unnamed: 0'],axis=1)\n",
    "tmin = pd.read_csv(os.getcwd()+'/tmin.csv').drop(['Unnamed: 0'],axis=1)"
   ]
  },
  {
   "cell_type": "code",
   "execution_count": 18,
   "id": "db0b0778",
   "metadata": {},
   "outputs": [],
   "source": [
    "tmean = pd.melt(tmean, id_vars=['Date'], value_vars=tmean.columns).rename({'variable':'Country'})\n",
    "tmax = pd.melt(tmax, id_vars=['Date'], value_vars=tmax.columns)\n",
    "prdf = pd.melt(prdf, id_vars=['Date'], value_vars=prdf.columns)\n",
    "tmin = pd.melt(tmin, id_vars=['Date'], value_vars=tmin.columns)"
   ]
  },
  {
   "cell_type": "code",
   "execution_count": 20,
   "id": "e0e1bf7b",
   "metadata": {},
   "outputs": [
    {
     "data": {
      "text/html": [
       "<div>\n",
       "<style scoped>\n",
       "    .dataframe tbody tr th:only-of-type {\n",
       "        vertical-align: middle;\n",
       "    }\n",
       "\n",
       "    .dataframe tbody tr th {\n",
       "        vertical-align: top;\n",
       "    }\n",
       "\n",
       "    .dataframe thead th {\n",
       "        text-align: right;\n",
       "    }\n",
       "</style>\n",
       "<table border=\"1\" class=\"dataframe\">\n",
       "  <thead>\n",
       "    <tr style=\"text-align: right;\">\n",
       "      <th></th>\n",
       "      <th>Date</th>\n",
       "      <th>variable</th>\n",
       "      <th>value</th>\n",
       "    </tr>\n",
       "  </thead>\n",
       "  <tbody>\n",
       "    <tr>\n",
       "      <th>26221</th>\n",
       "      <td>1962</td>\n",
       "      <td>Afghanistan</td>\n",
       "      <td>5.46</td>\n",
       "    </tr>\n",
       "    <tr>\n",
       "      <th>26246</th>\n",
       "      <td>1987</td>\n",
       "      <td>Afghanistan</td>\n",
       "      <td>6.41</td>\n",
       "    </tr>\n",
       "    <tr>\n",
       "      <th>26245</th>\n",
       "      <td>1986</td>\n",
       "      <td>Afghanistan</td>\n",
       "      <td>5.82</td>\n",
       "    </tr>\n",
       "    <tr>\n",
       "      <th>26244</th>\n",
       "      <td>1985</td>\n",
       "      <td>Afghanistan</td>\n",
       "      <td>6.24</td>\n",
       "    </tr>\n",
       "    <tr>\n",
       "      <th>26243</th>\n",
       "      <td>1984</td>\n",
       "      <td>Afghanistan</td>\n",
       "      <td>5.86</td>\n",
       "    </tr>\n",
       "    <tr>\n",
       "      <th>...</th>\n",
       "      <td>...</td>\n",
       "      <td>...</td>\n",
       "      <td>...</td>\n",
       "    </tr>\n",
       "    <tr>\n",
       "      <th>12273</th>\n",
       "      <td>1934</td>\n",
       "      <td>Zimbabwe</td>\n",
       "      <td>14.78</td>\n",
       "    </tr>\n",
       "    <tr>\n",
       "      <th>12272</th>\n",
       "      <td>1933</td>\n",
       "      <td>Zimbabwe</td>\n",
       "      <td>14.12</td>\n",
       "    </tr>\n",
       "    <tr>\n",
       "      <th>12271</th>\n",
       "      <td>1932</td>\n",
       "      <td>Zimbabwe</td>\n",
       "      <td>14.07</td>\n",
       "    </tr>\n",
       "    <tr>\n",
       "      <th>12299</th>\n",
       "      <td>1960</td>\n",
       "      <td>Zimbabwe</td>\n",
       "      <td>14.35</td>\n",
       "    </tr>\n",
       "    <tr>\n",
       "      <th>12359</th>\n",
       "      <td>2020</td>\n",
       "      <td>Zimbabwe</td>\n",
       "      <td>15.10</td>\n",
       "    </tr>\n",
       "  </tbody>\n",
       "</table>\n",
       "<p>26640 rows × 3 columns</p>\n",
       "</div>"
      ],
      "text/plain": [
       "       Date     variable  value\n",
       "26221  1962  Afghanistan   5.46\n",
       "26246  1987  Afghanistan   6.41\n",
       "26245  1986  Afghanistan   5.82\n",
       "26244  1985  Afghanistan   6.24\n",
       "26243  1984  Afghanistan   5.86\n",
       "...     ...          ...    ...\n",
       "12273  1934     Zimbabwe  14.78\n",
       "12272  1933     Zimbabwe  14.12\n",
       "12271  1932     Zimbabwe  14.07\n",
       "12299  1960     Zimbabwe  14.35\n",
       "12359  2020     Zimbabwe  15.10\n",
       "\n",
       "[26640 rows x 3 columns]"
      ]
     },
     "execution_count": 20,
     "metadata": {},
     "output_type": "execute_result"
    }
   ],
   "source": [
    "tmin.sort_values('variable')"
   ]
  },
  {
   "cell_type": "code",
   "execution_count": null,
   "id": "4b8629b6",
   "metadata": {},
   "outputs": [],
   "source": []
  }
 ],
 "metadata": {
  "kernelspec": {
   "display_name": "Python 3 (ipykernel)",
   "language": "python",
   "name": "python3"
  },
  "language_info": {
   "codemirror_mode": {
    "name": "ipython",
    "version": 3
   },
   "file_extension": ".py",
   "mimetype": "text/x-python",
   "name": "python",
   "nbconvert_exporter": "python",
   "pygments_lexer": "ipython3",
   "version": "3.9.7"
  }
 },
 "nbformat": 4,
 "nbformat_minor": 5
}
