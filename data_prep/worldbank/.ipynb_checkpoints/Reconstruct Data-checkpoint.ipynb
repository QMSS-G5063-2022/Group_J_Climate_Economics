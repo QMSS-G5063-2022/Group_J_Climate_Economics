{
 "cells": [
  {
   "cell_type": "code",
   "execution_count": 1,
   "id": "11f66785",
   "metadata": {},
   "outputs": [],
   "source": [
    "import os\n",
    "import pandas as pd"
   ]
  },
  {
   "cell_type": "code",
   "execution_count": 2,
   "id": "f9ce0497",
   "metadata": {},
   "outputs": [
    {
     "data": {
      "text/plain": [
       "['gdp_meta.csv',\n",
       " 'tmax.csv',\n",
       " 'forest_area.csv',\n",
       " 'agricultural_land.csv',\n",
       " 'climate_dev2.csv',\n",
       " '.DS_Store',\n",
       " 'climate_dev1.csv',\n",
       " 'prdf.csv',\n",
       " 'Untitled.ipynb',\n",
       " 'total_reserves.csv',\n",
       " 'climate_changemeta2.csv',\n",
       " 'access_electricity.csv',\n",
       " 'tmin.csv',\n",
       " 'climate_changemeta.csv',\n",
       " 'tmean.csv',\n",
       " '.ipynb_checkpoints',\n",
       " 'climate',\n",
       " 'life_expectancy.csv',\n",
       " 'gdp.csv',\n",
       " 'climate_change.csv',\n",
       " 'climate_dev_meta.csv']"
      ]
     },
     "execution_count": 2,
     "metadata": {},
     "output_type": "execute_result"
    }
   ],
   "source": [
    "os.listdir()"
   ]
  },
  {
   "cell_type": "code",
   "execution_count": 18,
   "id": "e68566c6",
   "metadata": {},
   "outputs": [],
   "source": [
    "gdp = pd.read_csv(os.getcwd()+'/gdp.csv',skiprows=3)\n",
    "to_melt = list(gdp.columns)[4:-1]\n",
    "gdp = pd.melt(gdp, id_vars=['Country Name'], value_vars=to_melt).sort_values(['Country Name','variable']).rename({'variable':'Year','value':'GDP'},axis=1).reset_index()[['Country Name','Year','GDP']]\n",
    "gdp.to_csv('final/gdp.csv')\n"
   ]
  },
  {
   "cell_type": "code",
   "execution_count": 30,
   "id": "461fb954",
   "metadata": {},
   "outputs": [],
   "source": [
    "forest = pd.read_csv(os.getcwd()+'/forest_area.csv',skiprows=3)\n",
    "to_melt = list(forest.columns)[4:-1]\n",
    "forest = pd.melt(forest, id_vars=['Country Name'], value_vars=to_melt).sort_values(['Country Name','variable']).rename({'variable':'Year','value':'Forest'},axis=1).reset_index()[['Country Name','Year','Forest']]\n",
    "forest.to_csv('final/forest.csv')\n",
    "# forest\n",
    "# to_melt"
   ]
  },
  {
   "cell_type": "code",
   "execution_count": 35,
   "id": "687311d8",
   "metadata": {},
   "outputs": [],
   "source": [
    "life_expectancy = pd.read_csv(os.getcwd()+'/life_expectancy.csv',skiprows=3)\n",
    "to_melt = list(life_expectancy.columns)[4:-1]\n",
    "life_expectancy = pd.melt(life_expectancy, id_vars=['Country Name'], value_vars=to_melt).sort_values(['Country Name','variable']).rename({'variable':'Year','value':'Life Expectancy'},axis=1).reset_index()[['Country Name','Year','Life Expectancy']]\n",
    "life_expectancy.to_csv('final/life_expectancy.csv')\n",
    "\n"
   ]
  },
  {
   "cell_type": "code",
   "execution_count": 56,
   "id": "8003ad01",
   "metadata": {},
   "outputs": [],
   "source": [
    "total_reserves = pd.read_csv(os.getcwd()+'/total_reserves.csv',skiprows=3)\n",
    "to_melt = list(total_reserves.columns)[4:-1]\n",
    "total_reserves = pd.melt(total_reserves, id_vars=['Country Name'], value_vars=to_melt).sort_values(['Country Name','variable']).rename({'variable':'Year','value':'Total Reserves'},axis=1).reset_index()[['Country Name','Year','Total Reserves']]\n",
    "total_reserves.to_csv('final/total_reserves.csv')\n",
    "\n"
   ]
  },
  {
   "cell_type": "code",
   "execution_count": 57,
   "id": "2320a6eb",
   "metadata": {},
   "outputs": [],
   "source": [
    "tmin = pd.read_csv(os.getcwd()+'/tmin.csv')\n",
    "to_melt = list(tmin.columns)[1:-1]\n",
    "tmin = pd.melt(tmin, id_vars=['Date'], value_vars=to_melt).sort_values(['variable','Date']).rename({'variable':'Country Name','value':'TMIN','Date':'Year'},axis=1).reset_index()[['Country Name','Year','TMIN']]\n",
    "tmin.to_csv('final/tmin.csv')\n",
    "\n"
   ]
  },
  {
   "cell_type": "code",
   "execution_count": 58,
   "id": "7610d964",
   "metadata": {},
   "outputs": [],
   "source": [
    "tmax = pd.read_csv(os.getcwd()+'/tmax.csv')\n",
    "to_melt = list(tmax.columns)[1:-1]\n",
    "tmax = pd.melt(tmax, id_vars=['Date'], value_vars=to_melt).sort_values(['variable','Date']).rename({'variable':'Country Name','value':'TMAX','Date':'Year'},axis=1).reset_index()[['Country Name','Year','TMAX']]\n",
    "tmax.to_csv('final/tmax.csv')"
   ]
  },
  {
   "cell_type": "code",
   "execution_count": 60,
   "id": "354a838d",
   "metadata": {},
   "outputs": [],
   "source": [
    "tmean = pd.read_csv(os.getcwd()+'/tmean.csv')\n",
    "to_melt = list(tmean.columns)[1:-1]\n",
    "tmean = pd.melt(tmean, id_vars=['Date'], value_vars=to_melt).sort_values(['variable','Date']).rename({'variable':'Country Name','value':'TMEAN','Date':'Year'},axis=1).reset_index()[['Country Name','Year','TMEAN']]\n",
    "tmean.to_csv('final/tmean.csv')\n"
   ]
  },
  {
   "cell_type": "code",
   "execution_count": 63,
   "id": "2ee93bcb",
   "metadata": {},
   "outputs": [],
   "source": [
    "prdf = pd.read_csv(os.getcwd()+'/prdf.csv')\n",
    "to_melt = list(prdf.columns)[1:-1]\n",
    "prdf = pd.melt(prdf, id_vars=['Date'], value_vars=to_melt).sort_values(['variable','Date']).rename({'variable':'Country Name','value':'PR','Date':'Year'},axis=1).reset_index()[['Country Name','Year','PR']]\n",
    "prdf.to_csv('final/prdf.csv')\n"
   ]
  },
  {
   "cell_type": "code",
   "execution_count": 69,
   "id": "8ad09bcf",
   "metadata": {},
   "outputs": [],
   "source": [
    "agr = pd.read_csv(os.getcwd()+'/agricultural_land.csv',skiprows=3)\n",
    "to_melt = list(agr.columns)[4:-1]\n",
    "agr = pd.melt(agr, id_vars=['Country Name'], value_vars=to_melt).sort_values(['Country Name','variable']).rename({'variable':'Year','value':'Agricultural Land'},axis=1).reset_index()[['Country Name','Year','Agricultural Land']]\n",
    "agr.to_csv('final/agricultural_land.csv')\n",
    "# to_melt\n"
   ]
  },
  {
   "cell_type": "code",
   "execution_count": 74,
   "id": "b139ba57",
   "metadata": {},
   "outputs": [],
   "source": [
    "life = pd.read_csv(os.getcwd()+'/life_expectancy.csv',skiprows=3)\n",
    "to_melt = list(life.columns)[4:-1]\n",
    "life = pd.melt(life, id_vars=['Country Name'], value_vars=to_melt).sort_values(['Country Name','variable']).rename({'variable':'Year','value':'Life Expectancy'},axis=1).reset_index()[['Country Name','Year','Life Expectancy']]\n",
    "life.to_csv('final/life_expectancy.csv')\n",
    "# to_melt\n"
   ]
  },
  {
   "cell_type": "code",
   "execution_count": 79,
   "id": "c9d30686",
   "metadata": {},
   "outputs": [],
   "source": [
    "cons = pd.read_csv(os.getcwd()+'/mean_consumption.csv',skiprows=3)\n",
    "to_melt = list(cons.columns)[4:-1]\n",
    "cons = pd.melt(cons, id_vars=['Country Name'], value_vars=to_melt).sort_values(['Country Name','variable']).rename({'variable':'Year','value':'Mean Consumption'},axis=1).reset_index()[['Country Name','Year','Mean Consumption']]\n",
    "cons.to_csv('final/mean_consumption.csv')\n",
    "\n",
    "\n"
   ]
  },
  {
   "cell_type": "code",
   "execution_count": 80,
   "id": "e917d613",
   "metadata": {},
   "outputs": [],
   "source": [
    "rural = pd.read_csv(os.getcwd()+'/perc_rural.csv',skiprows=3)\n",
    "to_melt = list(rural.columns)[4:-1]\n",
    "rural = pd.melt(rural, id_vars=['Country Name'], value_vars=to_melt).sort_values(['Country Name','variable']).rename({'variable':'Year','value':'Percent Rural Pop'},axis=1).reset_index()[['Country Name','Year','Percent Rural Pop']]\n",
    "rural.to_csv('final/perc_rural.csv')\n",
    "\n"
   ]
  },
  {
   "cell_type": "code",
   "execution_count": 81,
   "id": "70df82c7",
   "metadata": {},
   "outputs": [],
   "source": [
    "arable = pd.read_csv(os.getcwd()+'/arable_land.csv',skiprows=3)\n",
    "to_melt = list(arable.columns)[4:-1]\n",
    "arable = pd.melt(arable, id_vars=['Country Name'], value_vars=to_melt).sort_values(['Country Name','variable']).rename({'variable':'Year','value':'Arable Land'},axis=1).reset_index()[['Country Name','Year','Arable Land']]\n",
    "arable.to_csv('final/arable_land.csv')\n",
    "\n"
   ]
  },
  {
   "cell_type": "code",
   "execution_count": 82,
   "id": "d27d57da",
   "metadata": {},
   "outputs": [],
   "source": [
    "fert = pd.read_csv(os.getcwd()+'/fertilizer_cons_kg_hector.csv',skiprows=3)\n",
    "to_melt = list(fert.columns)[4:-1]\n",
    "fert = pd.melt(fert, id_vars=['Country Name'], value_vars=to_melt).sort_values(['Country Name','variable']).rename({'variable':'Year','value':'Fertilizer Consumption'},axis=1).reset_index()[['Country Name','Year','Fertilizer Consumption']]\n",
    "fert.to_csv('final/fertilizer_cons_kg_hector.csv')\n"
   ]
  },
  {
   "cell_type": "code",
   "execution_count": 83,
   "id": "9df7654c",
   "metadata": {},
   "outputs": [],
   "source": [
    "fprod = pd.read_csv(os.getcwd()+'/food_production.csv',skiprows=3)\n",
    "to_melt = list(fprod.columns)[4:-1]\n",
    "fprod = pd.melt(fprod, id_vars=['Country Name'], value_vars=to_melt).sort_values(['Country Name','variable']).rename({'variable':'Year','value':'Food Production'},axis=1).reset_index()[['Country Name','Year','Food Production']]\n",
    "fprod.to_csv('final/food_production.csv')\n"
   ]
  },
  {
   "cell_type": "code",
   "execution_count": 84,
   "id": "aeb568fa",
   "metadata": {},
   "outputs": [],
   "source": [
    "phead = pd.read_csv(os.getcwd()+'/poverty_headcount_ratio.csv',skiprows=3)\n",
    "to_melt = list(phead.columns)[4:-1]\n",
    "phead = pd.melt(phead, id_vars=['Country Name'], value_vars=to_melt).sort_values(['Country Name','variable']).rename({'variable':'Year','value':'Poverty Headcount Ratio'},axis=1).reset_index()[['Country Name','Year','Poverty Headcount Ratio']]\n",
    "phead.to_csv('final/poverty_headcount_ratio.csv')\n"
   ]
  },
  {
   "cell_type": "code",
   "execution_count": 85,
   "id": "689fd232",
   "metadata": {},
   "outputs": [],
   "source": [
    "migr = pd.read_csv(os.getcwd()+'/net_migration.csv',skiprows=3)\n",
    "to_melt = list(migr.columns)[4:-1]\n",
    "migr = pd.melt(migr, id_vars=['Country Name'], value_vars=to_melt).sort_values(['Country Name','variable']).rename({'variable':'Year','value':'Net Migration'},axis=1).reset_index()[['Country Name','Year','Net Migration']]\n",
    "migr.to_csv('final/net_migration.csv')perc_pop_below5\n"
   ]
  },
  {
   "cell_type": "code",
   "execution_count": 87,
   "id": "eea7cf04",
   "metadata": {},
   "outputs": [],
   "source": [
    "perc_pop_below5 = pd.read_csv(os.getcwd()+'/perc_pop_below5.csv',skiprows=3)\n",
    "to_melt = list(perc_pop_below5.columns)[4:-1]\n",
    "perc_pop_below5 = pd.melt(perc_pop_below5, id_vars=['Country Name'], value_vars=to_melt).sort_values(['Country Name','variable']).rename({'variable':'Year','value':'Pop % Below 5M'},axis=1).reset_index()[['Country Name','Year','Pop % Below 5M']]\n",
    "perc_pop_below5.to_csv('final/perc_pop_below5.csv')\n",
    "\n"
   ]
  },
  {
   "cell_type": "code",
   "execution_count": 88,
   "id": "b21fc307",
   "metadata": {},
   "outputs": [],
   "source": [
    "perc_finalen_renewable = pd.read_csv(os.getcwd()+'/perc_finalen_renewable.csv',skiprows=3)\n",
    "to_melt = list(perc_finalen_renewable.columns)[4:-1]\n",
    "perc_finalen_renewable = pd.melt(perc_finalen_renewable, id_vars=['Country Name'], value_vars=to_melt).sort_values(['Country Name','variable']).rename({'variable':'Year','value':'% Final Energy from Renewables'},axis=1).reset_index()[['Country Name','Year','% Final Energy from Renewables']]\n",
    "perc_finalen_renewable.to_csv('final/perc_finalen_renewable.csv')\n",
    "\n"
   ]
  },
  {
   "cell_type": "code",
   "execution_count": 89,
   "id": "2a8f09ed",
   "metadata": {},
   "outputs": [],
   "source": [
    "urban_pop = pd.read_csv(os.getcwd()+'/urban_pop.csv',skiprows=3)\n",
    "to_melt = list(urban_pop.columns)[4:-1]\n",
    "urban_pop = pd.melt(urban_pop, id_vars=['Country Name'], value_vars=to_melt).sort_values(['Country Name','variable']).rename({'variable':'Year','value':'Urban Population'},axis=1).reset_index()[['Country Name','Year','Urban Population']]\n",
    "urban_pop.to_csv('final/urban_pop.csv')\n",
    "\n"
   ]
  },
  {
   "cell_type": "code",
   "execution_count": 90,
   "id": "8b6c9cbf",
   "metadata": {},
   "outputs": [],
   "source": [
    "perc_urban_pop = pd.read_csv(os.getcwd()+'/perc_urban_pop.csv',skiprows=3)\n",
    "to_melt = list(perc_urban_pop.columns)[4:-1]\n",
    "perc_urban_pop = pd.melt(perc_urban_pop, id_vars=['Country Name'], value_vars=to_melt).sort_values(['Country Name','variable']).rename({'variable':'Year','value':'% Urban Population'},axis=1).reset_index()[['Country Name','Year','% Urban Population']]\n",
    "perc_urban_pop.to_csv('final/perc_urban_pop.csv')\n",
    "\n"
   ]
  },
  {
   "cell_type": "code",
   "execution_count": 91,
   "id": "35171a41",
   "metadata": {},
   "outputs": [],
   "source": [
    "ren_output_total_energy_output = pd.read_csv(os.getcwd()+'/ren_output_total_energy_output.csv',skiprows=3)\n",
    "to_melt = list(ren_output_total_energy_output.columns)[4:-1]\n",
    "ren_output_total_energy_output = pd.melt(ren_output_total_energy_output, id_vars=['Country Name'], value_vars=to_melt).sort_values(['Country Name','variable']).rename({'variable':'Year','value':'Renewable Output to Total Energy'},axis=1).reset_index()[['Country Name','Year','Renewable Output to Total Energy']]\n",
    "ren_output_total_energy_output.to_csv('final/ren_output_total_energy_output.csv')\n",
    "\n"
   ]
  },
  {
   "cell_type": "code",
   "execution_count": 92,
   "id": "dc55d59d",
   "metadata": {},
   "outputs": [],
   "source": [
    "population = pd.read_csv(os.getcwd()+'/population.csv',skiprows=3)\n",
    "to_melt = list(population.columns)[4:-1]\n",
    "population = pd.melt(population, id_vars=['Country Name'], value_vars=to_melt).sort_values(['Country Name','variable']).rename({'variable':'Year','value':'Population'},axis=1).reset_index()[['Country Name','Year','Population']]\n",
    "population.to_csv('final/population.csv')\n",
    "\n"
   ]
  },
  {
   "cell_type": "code",
   "execution_count": 93,
   "id": "9fd4f610",
   "metadata": {},
   "outputs": [],
   "source": [
    "energy_use_kgoilpercap = pd.read_csv(os.getcwd()+'/energy_use_kgoilpercap.csv',skiprows=3)\n",
    "to_melt = list(energy_use_kgoilpercap.columns)[4:-1]\n",
    "energy_use_kgoilpercap = pd.melt(energy_use_kgoilpercap, id_vars=['Country Name'], value_vars=to_melt).sort_values(['Country Name','variable']).rename({'variable':'Year','value':'Energy Use (kgoilpercap)'},axis=1).reset_index()[['Country Name','Year','Energy Use (kgoilpercap)']]\n",
    "energy_use_kgoilpercap.to_csv('final/energy_use_kgoilpercap.csv')\n",
    "\n"
   ]
  },
  {
   "cell_type": "code",
   "execution_count": 94,
   "id": "4c076559",
   "metadata": {},
   "outputs": [],
   "source": [
    "cereal_yield_kghectare = pd.read_csv(os.getcwd()+'/cereal_yield_kghectare.csv',skiprows=3)\n",
    "to_melt = list(cereal_yield_kghectare.columns)[4:-1]\n",
    "cereal_yield_kghectare = pd.melt(cereal_yield_kghectare, id_vars=['Country Name'], value_vars=to_melt).sort_values(['Country Name','variable']).rename({'variable':'Year','value':'Cereal Yield (kghectare)'},axis=1).reset_index()[['Country Name','Year','Cereal Yield (kghectare)']]\n",
    "cereal_yield_kghectare.to_csv('final/cereal_yield_kghectare.csv')\n",
    "\n"
   ]
  },
  {
   "cell_type": "code",
   "execution_count": null,
   "id": "10aebc3d",
   "metadata": {},
   "outputs": [],
   "source": [
    "population = pd.read_csv(os.getcwd()+'/population.csv',skiprows=3)\n",
    "to_melt = list(population.columns)[4:-1]\n",
    "population = pd.melt(population, id_vars=['Country Name'], value_vars=to_melt).sort_values(['Country Name','variable']).rename({'variable':'Year','value':'Population'},axis=1).reset_index()[['Country Name','Year','Population']]\n",
    "population.to_csv('final/population.csv')"
   ]
  },
  {
   "cell_type": "code",
   "execution_count": null,
   "id": "752f5e40",
   "metadata": {},
   "outputs": [],
   "source": []
  },
  {
   "cell_type": "code",
   "execution_count": null,
   "id": "4bb65b11",
   "metadata": {},
   "outputs": [],
   "source": []
  },
  {
   "cell_type": "code",
   "execution_count": null,
   "id": "b29a7670",
   "metadata": {},
   "outputs": [],
   "source": []
  },
  {
   "cell_type": "code",
   "execution_count": null,
   "id": "9d15097e",
   "metadata": {},
   "outputs": [],
   "source": []
  },
  {
   "cell_type": "code",
   "execution_count": null,
   "id": "5d786291",
   "metadata": {},
   "outputs": [],
   "source": []
  },
  {
   "cell_type": "code",
   "execution_count": null,
   "id": "c8f8505f",
   "metadata": {},
   "outputs": [],
   "source": []
  },
  {
   "cell_type": "code",
   "execution_count": null,
   "id": "524c016d",
   "metadata": {},
   "outputs": [],
   "source": []
  },
  {
   "cell_type": "code",
   "execution_count": null,
   "id": "26ecf0d1",
   "metadata": {},
   "outputs": [],
   "source": []
  },
  {
   "cell_type": "code",
   "execution_count": null,
   "id": "e6813772",
   "metadata": {},
   "outputs": [],
   "source": []
  },
  {
   "cell_type": "code",
   "execution_count": null,
   "id": "91901aef",
   "metadata": {},
   "outputs": [],
   "source": []
  }
 ],
 "metadata": {
  "kernelspec": {
   "display_name": "Python 3 (ipykernel)",
   "language": "python",
   "name": "python3"
  },
  "language_info": {
   "codemirror_mode": {
    "name": "ipython",
    "version": 3
   },
   "file_extension": ".py",
   "mimetype": "text/x-python",
   "name": "python",
   "nbconvert_exporter": "python",
   "pygments_lexer": "ipython3",
   "version": "3.9.7"
  }
 },
 "nbformat": 4,
 "nbformat_minor": 5
}
